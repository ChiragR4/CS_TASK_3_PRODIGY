{
  "nbformat": 4,
  "nbformat_minor": 0,
  "metadata": {
    "colab": {
      "provenance": []
    },
    "kernelspec": {
      "name": "python3",
      "display_name": "Python 3"
    },
    "language_info": {
      "name": "python"
    }
  },
  "cells": [
    {
      "cell_type": "code",
      "execution_count": null,
      "metadata": {
        "colab": {
          "base_uri": "https://localhost:8080/"
        },
        "id": "NrRtHVGPwhq9",
        "outputId": "ac2f3229-8861-4f99-d341-6bdfed468a5f"
      },
      "outputs": [
        {
          "output_type": "stream",
          "name": "stdout",
          "text": [
            "Enter The Password: Abcd@1234.!\n",
            "Password is Abcd@1234.!\n",
            "The Password Is Complex Enough.\n"
          ]
        }
      ],
      "source": [
        "import re\n",
        "\n",
        "def chk_pass(password):\n",
        "\n",
        "  #Uppercase Letter\n",
        "  if not re.search(r'[A-Z]', password):\n",
        "    return False\n",
        "\n",
        "  #Lowercase Letter\n",
        "  if not re.search(r'[a-z]', password):\n",
        "    return False\n",
        "\n",
        "  #One Digit\n",
        "  if not re.search(r'\\d', password):\n",
        "    return False\n",
        "\n",
        "  #One Special Character\n",
        "  if not re.search(r'[!@#$%^&*().?\":}{}|<>]', password):\n",
        "    return False\n",
        "\n",
        "  #Min Length\n",
        "  if len(password) < 8:\n",
        "    return False\n",
        "\n",
        "  return True\n",
        "\n",
        "pwd = input(\"Enter The Password: \")\n",
        "print(\"Password is\", pwd)\n",
        "\n",
        "if chk_pass(pwd):\n",
        "  print(\"The Password Is Complex Enough.\")\n",
        "else:\n",
        "  print(\"The Password Is Not Complex Enough.\")\n"
      ]
    }
  ]
}